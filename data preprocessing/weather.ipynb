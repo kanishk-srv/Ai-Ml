{
 "cells": [
  {
   "cell_type": "code",
   "execution_count": 40,
   "metadata": {},
   "outputs": [],
   "source": [
    "import numpy as np\n",
    "import pandas as pd\n",
    "import matplotlib.pyplot as plt\n"
   ]
  },
  {
   "cell_type": "code",
   "execution_count": 41,
   "metadata": {},
   "outputs": [
    {
     "name": "stdout",
     "output_type": "stream",
     "text": [
      "              Date    MaxTemp    MinTemp   MeanTemp\n",
      "0       01-07-1942  25.555556  22.222222  23.888889\n",
      "1       02-07-1942  28.888889  21.666667  25.555556\n",
      "2       03-07-1942  26.111111  22.222222  24.444444\n",
      "3       04-07-1942  26.666667  22.222222  24.444444\n",
      "4       05-07-1942  26.666667  21.666667  24.444444\n",
      "...            ...        ...        ...        ...\n",
      "119035  27-12-1945  28.333333  18.333333  23.333333\n",
      "119036  28-12-1945  29.444444  18.333333  23.888889\n",
      "119037  29-12-1945  28.333333  18.333333  23.333333\n",
      "119038  30-12-1945  28.333333  18.333333  23.333333\n",
      "119039  31-12-1945  29.444444  17.222222  23.333333\n",
      "\n",
      "[119040 rows x 4 columns]\n"
     ]
    }
   ],
   "source": [
    "data=pd.read_csv('Summary of Weather.csv')\n",
    "print(data)"
   ]
  },
  {
   "cell_type": "code",
   "execution_count": 42,
   "metadata": {},
   "outputs": [],
   "source": [
    "x=data.iloc[ :, 0:3]\n",
    "x1=x\n",
    "x=x.drop(columns='MaxTemp')\n",
    "y=data.iloc[ :,1]"
   ]
  },
  {
   "cell_type": "code",
   "execution_count": 43,
   "metadata": {},
   "outputs": [
    {
     "name": "stdout",
     "output_type": "stream",
     "text": [
      "              Date    MinTemp\n",
      "0       01-07-1942  22.222222\n",
      "1       02-07-1942  21.666667\n",
      "2       03-07-1942  22.222222\n",
      "3       04-07-1942  22.222222\n",
      "4       05-07-1942  21.666667\n",
      "...            ...        ...\n",
      "119035  27-12-1945  18.333333\n",
      "119036  28-12-1945  18.333333\n",
      "119037  29-12-1945  18.333333\n",
      "119038  30-12-1945  18.333333\n",
      "119039  31-12-1945  17.222222\n",
      "\n",
      "[119040 rows x 2 columns]\n",
      "0         25.555556\n",
      "1         28.888889\n",
      "2         26.111111\n",
      "3         26.666667\n",
      "4         26.666667\n",
      "            ...    \n",
      "119035    28.333333\n",
      "119036    29.444444\n",
      "119037    28.333333\n",
      "119038    28.333333\n",
      "119039    29.444444\n",
      "Name: MaxTemp, Length: 119040, dtype: float64\n"
     ]
    }
   ],
   "source": [
    "print(x)\n",
    "print(y)"
   ]
  },
  {
   "cell_type": "code",
   "execution_count": 44,
   "metadata": {},
   "outputs": [
    {
     "name": "stdout",
     "output_type": "stream",
     "text": [
      "<class 'pandas.core.frame.DataFrame'>\n",
      "RangeIndex: 119040 entries, 0 to 119039\n",
      "Data columns (total 2 columns):\n",
      " #   Column   Non-Null Count   Dtype  \n",
      "---  ------   --------------   -----  \n",
      " 0   Date     119040 non-null  object \n",
      " 1   MinTemp  119040 non-null  float64\n",
      "dtypes: float64(1), object(1)\n",
      "memory usage: 1.8+ MB\n"
     ]
    }
   ],
   "source": [
    "x.info()\n"
   ]
  },
  {
   "cell_type": "code",
   "execution_count": 45,
   "metadata": {},
   "outputs": [
    {
     "name": "stdout",
     "output_type": "stream",
     "text": [
      "<class 'pandas.core.series.Series'>\n",
      "RangeIndex: 119040 entries, 0 to 119039\n",
      "Series name: MaxTemp\n",
      "Non-Null Count   Dtype  \n",
      "--------------   -----  \n",
      "119040 non-null  float64\n",
      "dtypes: float64(1)\n",
      "memory usage: 930.1 KB\n"
     ]
    }
   ],
   "source": [
    "y.info()"
   ]
  },
  {
   "cell_type": "code",
   "execution_count": 46,
   "metadata": {},
   "outputs": [
    {
     "name": "stdout",
     "output_type": "stream",
     "text": [
      "              Date    MinTemp\n",
      "101245  16-11-1943  22.222222\n",
      "86593   07-10-1944  13.888889\n",
      "115208  19-03-1944  19.444444\n",
      "42429   13-07-1945  25.555556\n",
      "59229   14-09-1943  20.000000\n",
      "...            ...        ...\n",
      "50057   03-12-1942  23.333333\n",
      "98047   01-12-1945  25.000000\n",
      "5192    06-01-1945  20.000000\n",
      "77708   05-05-1944  21.111111\n",
      "98539   21-07-1944  20.555556\n",
      "\n",
      "[95232 rows x 2 columns]\n",
      "             Date    MinTemp\n",
      "62234  17-01-1944  11.111111\n",
      "28328  14-10-1943  19.444444\n",
      "62139  13-10-1943  22.777778\n",
      "37166  14-09-1945  21.666667\n",
      "10655  31-10-1943  23.333333\n",
      "...           ...        ...\n",
      "48640  26-02-1943 -18.888889\n",
      "5524   04-12-1945  21.111111\n",
      "46009  11-09-1943   5.555556\n",
      "8097   20-12-1944  22.222222\n",
      "84707  26-04-1945  15.000000\n",
      "\n",
      "[23808 rows x 2 columns]\n",
      "101245    31.111111\n",
      "86593     32.222222\n",
      "115208    35.000000\n",
      "42429     29.444444\n",
      "59229     29.444444\n",
      "            ...    \n",
      "50057     27.222222\n",
      "98047     29.444444\n",
      "5192      28.888889\n",
      "77708     31.666667\n",
      "98539     30.000000\n",
      "Name: MaxTemp, Length: 95232, dtype: float64\n",
      "62234    29.444444\n",
      "28328    32.777778\n",
      "62139    37.222222\n",
      "37166    33.333333\n",
      "10655    30.000000\n",
      "           ...    \n",
      "48640   -13.888889\n",
      "5524     31.111111\n",
      "46009    11.111111\n",
      "8097     32.222222\n",
      "84707    22.777778\n",
      "Name: MaxTemp, Length: 23808, dtype: float64\n"
     ]
    }
   ],
   "source": [
    "from sklearn.model_selection import train_test_split\n",
    "x_train,x_test,y_train,y_test=train_test_split(x,y, test_size=0.2,random_state=1)\n",
    "print(x_train)\n",
    "print(x_test)\n",
    "print(y_train)\n",
    "print(y_test)\n",
    "\n"
   ]
  },
  {
   "cell_type": "code",
   "execution_count": 47,
   "metadata": {},
   "outputs": [
    {
     "name": "stdout",
     "output_type": "stream",
     "text": [
      "<class 'pandas.core.frame.DataFrame'>\n",
      "Index: 95232 entries, 101245 to 98539\n",
      "Data columns (total 2 columns):\n",
      " #   Column   Non-Null Count  Dtype  \n",
      "---  ------   --------------  -----  \n",
      " 0   Date     95232 non-null  object \n",
      " 1   MinTemp  95232 non-null  float64\n",
      "dtypes: float64(1), object(1)\n",
      "memory usage: 2.2+ MB\n"
     ]
    }
   ],
   "source": [
    "x_train.info()"
   ]
  },
  {
   "cell_type": "code",
   "execution_count": 48,
   "metadata": {},
   "outputs": [
    {
     "name": "stdout",
     "output_type": "stream",
     "text": [
      "<class 'pandas.core.frame.DataFrame'>\n",
      "Index: 23808 entries, 62234 to 84707\n",
      "Data columns (total 2 columns):\n",
      " #   Column   Non-Null Count  Dtype  \n",
      "---  ------   --------------  -----  \n",
      " 0   Date     23808 non-null  object \n",
      " 1   MinTemp  23808 non-null  float64\n",
      "dtypes: float64(1), object(1)\n",
      "memory usage: 558.0+ KB\n"
     ]
    }
   ],
   "source": [
    "x_test.info()"
   ]
  },
  {
   "cell_type": "code",
   "execution_count": 49,
   "metadata": {},
   "outputs": [
    {
     "ename": "InvalidIndexError",
     "evalue": "(slice(None, None, None), 1)",
     "output_type": "error",
     "traceback": [
      "\u001b[1;31m---------------------------------------------------------------------------\u001b[0m",
      "\u001b[1;31mTypeError\u001b[0m                                 Traceback (most recent call last)",
      "File \u001b[1;32mc:\\Users\\acer\\anaconda3\\Lib\\site-packages\\pandas\\core\\indexes\\base.py:3791\u001b[0m, in \u001b[0;36mIndex.get_loc\u001b[1;34m(self, key)\u001b[0m\n\u001b[0;32m   3790\u001b[0m \u001b[38;5;28;01mtry\u001b[39;00m:\n\u001b[1;32m-> 3791\u001b[0m     \u001b[38;5;28;01mreturn\u001b[39;00m \u001b[38;5;28mself\u001b[39m\u001b[38;5;241m.\u001b[39m_engine\u001b[38;5;241m.\u001b[39mget_loc(casted_key)\n\u001b[0;32m   3792\u001b[0m \u001b[38;5;28;01mexcept\u001b[39;00m \u001b[38;5;167;01mKeyError\u001b[39;00m \u001b[38;5;28;01mas\u001b[39;00m err:\n",
      "File \u001b[1;32mindex.pyx:152\u001b[0m, in \u001b[0;36mpandas._libs.index.IndexEngine.get_loc\u001b[1;34m()\u001b[0m\n",
      "File \u001b[1;32mindex.pyx:158\u001b[0m, in \u001b[0;36mpandas._libs.index.IndexEngine.get_loc\u001b[1;34m()\u001b[0m\n",
      "\u001b[1;31mTypeError\u001b[0m: '(slice(None, None, None), 1)' is an invalid key",
      "\nDuring handling of the above exception, another exception occurred:\n",
      "\u001b[1;31mInvalidIndexError\u001b[0m                         Traceback (most recent call last)",
      "Cell \u001b[1;32mIn[49], line 3\u001b[0m\n\u001b[0;32m      1\u001b[0m \u001b[38;5;28;01mfrom\u001b[39;00m \u001b[38;5;21;01msklearn\u001b[39;00m\u001b[38;5;21;01m.\u001b[39;00m\u001b[38;5;21;01mpreprocessing\u001b[39;00m \u001b[38;5;28;01mimport\u001b[39;00m StandardScaler\n\u001b[0;32m      2\u001b[0m sc\u001b[38;5;241m=\u001b[39mStandardScaler\n\u001b[1;32m----> 3\u001b[0m x_train[ :, \u001b[38;5;241m1\u001b[39m]\u001b[38;5;241m=\u001b[39msc\u001b[38;5;241m.\u001b[39mfit_transform(x_train[ :, \u001b[38;5;241m1\u001b[39m])\n\u001b[0;32m      4\u001b[0m x_test[ :, \u001b[38;5;241m1\u001b[39m]\u001b[38;5;241m=\u001b[39msc\u001b[38;5;241m.\u001b[39mtransform(x_test[ :, \u001b[38;5;241m1\u001b[39m])\n",
      "File \u001b[1;32mc:\\Users\\acer\\anaconda3\\Lib\\site-packages\\pandas\\core\\frame.py:3893\u001b[0m, in \u001b[0;36mDataFrame.__getitem__\u001b[1;34m(self, key)\u001b[0m\n\u001b[0;32m   3891\u001b[0m \u001b[38;5;28;01mif\u001b[39;00m \u001b[38;5;28mself\u001b[39m\u001b[38;5;241m.\u001b[39mcolumns\u001b[38;5;241m.\u001b[39mnlevels \u001b[38;5;241m>\u001b[39m \u001b[38;5;241m1\u001b[39m:\n\u001b[0;32m   3892\u001b[0m     \u001b[38;5;28;01mreturn\u001b[39;00m \u001b[38;5;28mself\u001b[39m\u001b[38;5;241m.\u001b[39m_getitem_multilevel(key)\n\u001b[1;32m-> 3893\u001b[0m indexer \u001b[38;5;241m=\u001b[39m \u001b[38;5;28mself\u001b[39m\u001b[38;5;241m.\u001b[39mcolumns\u001b[38;5;241m.\u001b[39mget_loc(key)\n\u001b[0;32m   3894\u001b[0m \u001b[38;5;28;01mif\u001b[39;00m is_integer(indexer):\n\u001b[0;32m   3895\u001b[0m     indexer \u001b[38;5;241m=\u001b[39m [indexer]\n",
      "File \u001b[1;32mc:\\Users\\acer\\anaconda3\\Lib\\site-packages\\pandas\\core\\indexes\\base.py:3803\u001b[0m, in \u001b[0;36mIndex.get_loc\u001b[1;34m(self, key)\u001b[0m\n\u001b[0;32m   3798\u001b[0m     \u001b[38;5;28;01mraise\u001b[39;00m \u001b[38;5;167;01mKeyError\u001b[39;00m(key) \u001b[38;5;28;01mfrom\u001b[39;00m \u001b[38;5;21;01merr\u001b[39;00m\n\u001b[0;32m   3799\u001b[0m \u001b[38;5;28;01mexcept\u001b[39;00m \u001b[38;5;167;01mTypeError\u001b[39;00m:\n\u001b[0;32m   3800\u001b[0m     \u001b[38;5;66;03m# If we have a listlike key, _check_indexing_error will raise\u001b[39;00m\n\u001b[0;32m   3801\u001b[0m     \u001b[38;5;66;03m#  InvalidIndexError. Otherwise we fall through and re-raise\u001b[39;00m\n\u001b[0;32m   3802\u001b[0m     \u001b[38;5;66;03m#  the TypeError.\u001b[39;00m\n\u001b[1;32m-> 3803\u001b[0m     \u001b[38;5;28mself\u001b[39m\u001b[38;5;241m.\u001b[39m_check_indexing_error(key)\n\u001b[0;32m   3804\u001b[0m     \u001b[38;5;28;01mraise\u001b[39;00m\n",
      "File \u001b[1;32mc:\\Users\\acer\\anaconda3\\Lib\\site-packages\\pandas\\core\\indexes\\base.py:5975\u001b[0m, in \u001b[0;36mIndex._check_indexing_error\u001b[1;34m(self, key)\u001b[0m\n\u001b[0;32m   5971\u001b[0m \u001b[38;5;28;01mdef\u001b[39;00m \u001b[38;5;21m_check_indexing_error\u001b[39m(\u001b[38;5;28mself\u001b[39m, key):\n\u001b[0;32m   5972\u001b[0m     \u001b[38;5;28;01mif\u001b[39;00m \u001b[38;5;129;01mnot\u001b[39;00m is_scalar(key):\n\u001b[0;32m   5973\u001b[0m         \u001b[38;5;66;03m# if key is not a scalar, directly raise an error (the code below\u001b[39;00m\n\u001b[0;32m   5974\u001b[0m         \u001b[38;5;66;03m# would convert to numpy arrays and raise later any way) - GH29926\u001b[39;00m\n\u001b[1;32m-> 5975\u001b[0m         \u001b[38;5;28;01mraise\u001b[39;00m InvalidIndexError(key)\n",
      "\u001b[1;31mInvalidIndexError\u001b[0m: (slice(None, None, None), 1)"
     ]
    }
   ],
   "source": [
    "from sklearn.preprocessing import StandardScaler\n",
    "sc=StandardScaler\n",
    "x_train[ :, 1]=sc.fit_transform(x_train[ :, 1])\n",
    "x_test[ :, 1]=sc.transform(x_test[ :, 1])"
   ]
  }
 ],
 "metadata": {
  "kernelspec": {
   "display_name": "base",
   "language": "python",
   "name": "python3"
  },
  "language_info": {
   "codemirror_mode": {
    "name": "ipython",
    "version": 3
   },
   "file_extension": ".py",
   "mimetype": "text/x-python",
   "name": "python",
   "nbconvert_exporter": "python",
   "pygments_lexer": "ipython3",
   "version": "3.11.7"
  }
 },
 "nbformat": 4,
 "nbformat_minor": 2
}
